{
 "cells": [
  {
   "cell_type": "code",
   "execution_count": 2,
   "metadata": {},
   "outputs": [],
   "source": [
    "# <aghatpande> on 07-Mar-2017\n",
    "# print all the outputs in a cell\n",
    "from IPython.core.interactiveshell import InteractiveShell\n",
    "InteractiveShell.ast_node_interactivity = \"all\""
   ]
  },
  {
   "cell_type": "code",
   "execution_count": 3,
   "metadata": {},
   "outputs": [],
   "source": [
    "import pandas as pd\n",
    "import numpy as np"
   ]
  },
  {
   "cell_type": "markdown",
   "metadata": {},
   "source": [
    "#### Python has in-built implementation of Hashtable in form of Dictionary. \n",
    "#### Here is the code for the Hashtable Using Chaining"
   ]
  },
  {
   "cell_type": "code",
   "execution_count": 82,
   "metadata": {},
   "outputs": [],
   "source": [
    "class HashTable:\n",
    "    def __init__(self):\n",
    "        self.maxSize = 100\n",
    "        self.hashList = [[] for i in range(self.maxSize)]\n",
    "        \n",
    "    def getHash(self, key):\n",
    "        hash = 0\n",
    "        asciiCount = 0\n",
    "        for char in key:\n",
    "            asciiCount = asciiCount + ord(char)\n",
    "        hash = asciiCount % 100\n",
    "        return hash\n",
    "    \n",
    "    def additem(self, key, value):\n",
    "        hash = self.getHash(key)\n",
    "        elementFound = False\n",
    "        for index, item in enumerate(self.hashList[hash]):\n",
    "            if item is not None:\n",
    "                if len(item) == 2 and item[0] == key:\n",
    "                    self.hashList[hash][index] = (key, value)\n",
    "                    elementFound = True\n",
    "                    break\n",
    "        \n",
    "        if(not elementFound):\n",
    "            self.hashList[hash].append((key, value))\n",
    "            \n",
    "    def getitem(self, key):\n",
    "        hash = self.getHash(key) \n",
    "        for item in self.hashList[hash]:\n",
    "            if item is not None:\n",
    "                if len(item) == 2 and item[0] == key:\n",
    "                    return (item[1])\n",
    "            \n",
    "    def removeitem(self, key):\n",
    "        hash = self.getHash(key)\n",
    "        elementFound = False\n",
    "        for index, item in enumerate(self.hashList[hash]):\n",
    "            if item is not None:\n",
    "                if len(item) == 2 and item[0] == key:\n",
    "                    self.hashList[hash][index] = None\n",
    "                    break\n",
    "                   "
   ]
  },
  {
   "cell_type": "code",
   "execution_count": 83,
   "metadata": {},
   "outputs": [
    {
     "name": "stdout",
     "output_type": "stream",
     "text": [
      "<__main__.HashTable object at 0x7fdb217b1580>\n",
      "[[], [], [], [], [], [], [], [], [], [], [], [], [], [], [], [], [], [], [], [], [], [], [], [], [], [('ameya', 1), ('maeya', 2), ('eyaam', 3)], [], [], [], [], [], [], [], [], [], [], [], [], [], [], [], [], [], [], [], [], [], [], [], [], [], [], [], [], [], [], [], [], [], [], [], [], [], [], [], [], [], [], [], [], [], [], [], [], [], [], [], [], [], [], [], [], [], [], [], [], [], [], [], [], [], [], [], [], [], [], [], [], [], []]\n",
      "1\n",
      "2\n",
      "None\n",
      "[[], [], [], [], [], [], [], [], [], [], [], [], [], [], [], [], [], [], [], [], [], [], [], [], [], [('ameya', 1), None, ('eyaam', 3)], [], [], [], [], [], [], [], [], [], [], [], [], [], [], [], [], [], [], [], [], [], [], [], [], [], [], [], [], [], [], [], [], [], [], [], [], [], [], [], [], [], [], [], [], [], [], [], [], [], [], [], [], [], [], [], [], [], [], [], [], [], [], [], [], [], [], [], [], [], [], [], [], [], []]\n"
     ]
    }
   ],
   "source": [
    "h = HashTable()\n",
    "print(h)\n",
    "h.additem('ameya', 1)\n",
    "h.additem('maeya', 2)\n",
    "h.additem('eyaam', 3)\n",
    "print(h.hashList)\n",
    "value = h.getitem('ameya')\n",
    "print(value)\n",
    "value = h.getitem('maeya')\n",
    "print(value)\n",
    "value = h.getitem('temp')\n",
    "print(value)\n",
    "h.removeitem('maeya')\n",
    "print(h.hashList)"
   ]
  },
  {
   "cell_type": "code",
   "execution_count": 81,
   "metadata": {},
   "outputs": [
    {
     "name": "stdout",
     "output_type": "stream",
     "text": [
      "3\n"
     ]
    }
   ],
   "source": [
    "value = h.getitem('eyaam')\n",
    "print(value)"
   ]
  },
  {
   "cell_type": "code",
   "execution_count": null,
   "metadata": {},
   "outputs": [],
   "source": []
  }
 ],
 "metadata": {
  "kernelspec": {
   "display_name": "Python 3",
   "language": "python",
   "name": "python3"
  },
  "language_info": {
   "codemirror_mode": {
    "name": "ipython",
    "version": 3
   },
   "file_extension": ".py",
   "mimetype": "text/x-python",
   "name": "python",
   "nbconvert_exporter": "python",
   "pygments_lexer": "ipython3",
   "version": "3.8.3"
  }
 },
 "nbformat": 4,
 "nbformat_minor": 1
}
