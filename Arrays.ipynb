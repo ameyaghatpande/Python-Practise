{
 "cells": [
  {
   "cell_type": "code",
   "execution_count": 1,
   "metadata": {
    "collapsed": true
   },
   "outputs": [],
   "source": [
    "# <aghatpande> on 07-Mar-2017\n",
    "# print all the outputs in a cell\n",
    "from IPython.core.interactiveshell import InteractiveShell\n",
    "InteractiveShell.ast_node_interactivity = \"all\""
   ]
  },
  {
   "cell_type": "code",
   "execution_count": 2,
   "metadata": {
    "collapsed": true
   },
   "outputs": [],
   "source": [
    "import pandas as pd\n",
    "import numpy as np"
   ]
  },
  {
   "cell_type": "markdown",
   "metadata": {},
   "source": [
    "## program to find Anangram\n",
    "## Anangram example ---> \"acb\" == \"cab\""
   ]
  },
  {
   "cell_type": "code",
   "execution_count": 3,
   "metadata": {
    "collapsed": false
   },
   "outputs": [],
   "source": [
    "import string\n",
    "def findAnangram(a,b):\n",
    "    a = str(a)\n",
    "    b = str(b)\n",
    "    a = a.replace(\" \", \"\")\n",
    "    b = b.replace(\" \", \"\")\n",
    "    #Important case\n",
    "    if len(a) != len(b):\n",
    "        return False\n",
    "    # Take advantage of sorted algorithm\n",
    "    return(sorted(a) == sorted(b))\n",
    "   \n",
    "# Sorted algorithm is not optimized\n",
    "# So Manually check the occurrence of each character\n",
    "def findAnangram1(a,b):\n",
    "    count = {}\n",
    "    a = a.replace(\" \", \"\")\n",
    "    b = b.replace(\" \", \"\")\n",
    "    \n",
    "    #Important case\n",
    "    if len(a) != len(b):\n",
    "        return False\n",
    "    \n",
    "    for i in a:\n",
    "        if i in count:\n",
    "            count[i] += 1\n",
    "        else:\n",
    "            count[i] = 1\n",
    "    #print(count)\n",
    "    \n",
    "    for j in b:\n",
    "        if j in count:\n",
    "            count[j] -= 1\n",
    "        else:\n",
    "            count[j] = 1\n",
    "    #print(count)\n",
    "    \n",
    "    for k in count.keys():\n",
    "        if count[k] != 0:\n",
    "            return False\n",
    "        \n",
    "    return True\n",
    "        "
   ]
  },
  {
   "cell_type": "code",
   "execution_count": 4,
   "metadata": {
    "collapsed": false
   },
   "outputs": [
    {
     "name": "stdout",
     "output_type": "stream",
     "text": [
      "ALL TEST CASES PASSED\n",
      "ALL TEST CASES PASSED\n"
     ]
    }
   ],
   "source": [
    "from nose.tools import assert_equal\n",
    "\n",
    "class AnagramTest(object):\n",
    "    \n",
    "    def test(self,sol):\n",
    "        assert_equal(sol('go go go','gggooo'),True)\n",
    "        assert_equal(sol('abc','cba'),True)\n",
    "        assert_equal(sol('hi man','hi     man'),True)\n",
    "        assert_equal(sol('aabbcc','aabbc'),False)\n",
    "        assert_equal(sol('123','1 2'),False)\n",
    "        print \"ALL TEST CASES PASSED\"\n",
    "\n",
    "# Run Tests\n",
    "t = AnagramTest()\n",
    "t.test(findAnangram)\n",
    "t.test(findAnangram1)"
   ]
  },
  {
   "cell_type": "markdown",
   "metadata": {},
   "source": [
    "## sum unique pair"
   ]
  },
  {
   "cell_type": "code",
   "execution_count": 5,
   "metadata": {
    "collapsed": false
   },
   "outputs": [],
   "source": [
    "def pair_sum(a,b):\n",
    "    count = set()\n",
    "    seen = set()\n",
    "    index = 0\n",
    "    for i in a:\n",
    "        target = b - i\n",
    "        #z = a[index+1:]\n",
    "        #print z\n",
    "        #if target in z:\n",
    "            #count.add(((min(i, target)), (max(i, target))))\n",
    "        #index+=1\n",
    "        if target not in seen:\n",
    "            seen.add(i)\n",
    "        else:\n",
    "            count.add(((min(i, target)), (max(i, target))))\n",
    "    return(len(count))"
   ]
  },
  {
   "cell_type": "code",
   "execution_count": 6,
   "metadata": {
    "collapsed": false
   },
   "outputs": [
    {
     "data": {
      "text/plain": [
       "2"
      ]
     },
     "execution_count": 6,
     "metadata": {},
     "output_type": "execute_result"
    }
   ],
   "source": [
    "pair_sum([1,2,3,2],4)"
   ]
  },
  {
   "cell_type": "code",
   "execution_count": 7,
   "metadata": {
    "collapsed": false
   },
   "outputs": [
    {
     "name": "stdout",
     "output_type": "stream",
     "text": [
      "ALL TEST CASES PASSED\n"
     ]
    }
   ],
   "source": [
    "from nose.tools import assert_equal\n",
    "\n",
    "class TestPair(object):\n",
    "    \n",
    "    def test(self,sol):\n",
    "        assert_equal(sol([1,9,2,8,3,7,4,6,5,5,13,14,11,13,-1],10),6)\n",
    "        assert_equal(sol([1,2,3,1],3),1)\n",
    "        assert_equal(sol([1,3,2,2],4),2)\n",
    "        print 'ALL TEST CASES PASSED'\n",
    "        \n",
    "#Run tests\n",
    "t = TestPair()\n",
    "t.test(pair_sum)"
   ]
  },
  {
   "cell_type": "markdown",
   "metadata": {},
   "source": [
    "## Missing element"
   ]
  },
  {
   "cell_type": "code",
   "execution_count": 8,
   "metadata": {
    "collapsed": true
   },
   "outputs": [],
   "source": [
    "def missingElement(arr1, arr2):\n",
    "    arr1.sort()\n",
    "    arr2.sort()\n",
    "    for num1,num2 in zip(arr1,arr2):\n",
    "        if num1 != num2:\n",
    "            return num1\n",
    "    \n",
    "    return arr1[-1]\n",
    "\n",
    "#One more way is to take the count of elements of first array, and subtract the count of other array\n",
    "def missingElement1(arr1, arr2):\n",
    "    count = 0\n",
    "    for i in arr1:\n",
    "        count += i\n",
    "    \n",
    "    for j in arr2:\n",
    "        count -= j\n",
    "    \n",
    "    return count\n",
    "        "
   ]
  },
  {
   "cell_type": "code",
   "execution_count": 10,
   "metadata": {
    "collapsed": false
   },
   "outputs": [
    {
     "data": {
      "text/plain": [
       "'\\nRUN THIS CELL TO TEST YOUR SOLUTION\\n'"
      ]
     },
     "execution_count": 10,
     "metadata": {},
     "output_type": "execute_result"
    },
    {
     "name": "stdout",
     "output_type": "stream",
     "text": [
      "ALL TEST CASES PASSED\n"
     ]
    }
   ],
   "source": [
    "\"\"\"\n",
    "RUN THIS CELL TO TEST YOUR SOLUTION\n",
    "\"\"\"\n",
    "from nose.tools import assert_equal\n",
    "\n",
    "class TestFinder(object):\n",
    "    \n",
    "    def test(self,sol):\n",
    "        assert_equal(sol([5,5,7,7],[5,7,7]),5)\n",
    "        assert_equal(sol([1,2,3,4,5,6,7],[3,7,2,1,4,6]),5)\n",
    "        assert_equal(sol([9,8,7,6,5,4,3,2,1],[9,8,7,5,4,3,2,1]),6)\n",
    "        print 'ALL TEST CASES PASSED'\n",
    "\n",
    "# Run test\n",
    "t = TestFinder()\n",
    "t.test(missingElement)\n",
    "t.test(missingElement1)"
   ]
  },
  {
   "cell_type": "markdown",
   "metadata": {},
   "source": [
    "## Sentence reversal\n"
   ]
  },
  {
   "cell_type": "code",
   "execution_count": null,
   "metadata": {
    "collapsed": true
   },
   "outputs": [],
   "source": [
    "def rev_word(s):\n",
    "    space = [\" \"]\n",
    "    stringLength = len(s)\n",
    "    words = []\n",
    "    i = 0\n",
    "    while i < stringLength:\n",
    "        if s[i] not in space:\n",
    "            word_start = i\n",
    "            while i < stringLength and s[i] not in space:\n",
    "                i+=1\n",
    "            words.append(s[word_start:i])\n",
    "        i+=1\n",
    "    \n",
    "    print(words)\n",
    "    return \" \".join(words[::-1])"
   ]
  },
  {
   "cell_type": "code",
   "execution_count": null,
   "metadata": {
    "collapsed": false
   },
   "outputs": [],
   "source": [
    "\"\"\"\n",
    "RUN THIS CELL TO TEST YOUR SOLUTION\n",
    "\"\"\"\n",
    "\n",
    "from nose.tools import assert_equal\n",
    "\n",
    "class ReversalTest(object):\n",
    "    \n",
    "    def test(self,sol):\n",
    "        assert_equal(sol('    space before'),'before space')\n",
    "        assert_equal(sol('space after     '),'after space')\n",
    "        assert_equal(sol('   Hello John    how are you   '),'you are how John Hello')\n",
    "        assert_equal(sol('1'),'1')\n",
    "        print \"ALL TEST CASES PASSED\"\n",
    "        \n",
    "# Run and test\n",
    "t = ReversalTest()\n",
    "t.test(rev_word)"
   ]
  },
  {
   "cell_type": "markdown",
   "metadata": {},
   "source": [
    "## string compression"
   ]
  },
  {
   "cell_type": "code",
   "execution_count": 24,
   "metadata": {
    "collapsed": false
   },
   "outputs": [],
   "source": [
    "def compress(s):\n",
    "    \n",
    "    if len(s) == 0:\n",
    "        return \"\"\n",
    "    \n",
    "    if len(s) == 1:\n",
    "        return s[0] + str(\"1\")\n",
    "    \n",
    "    r = \"\"\n",
    "    count = 1\n",
    "    length = len(s)\n",
    "    i = 1\n",
    "    while i < length:\n",
    "        if s[i] == s[i-1]:\n",
    "            count +=1\n",
    "        else:\n",
    "            r = r + s[i-1] + str(count)\n",
    "            count =1\n",
    "        i+=1\n",
    "    \n",
    "    r = r + s[i-1] + str(count)\n",
    "\n",
    "    return r\n",
    "        \n",
    "        "
   ]
  },
  {
   "cell_type": "code",
   "execution_count": 25,
   "metadata": {
    "collapsed": false
   },
   "outputs": [
    {
     "data": {
      "text/plain": [
       "'A3B2C2'"
      ]
     },
     "execution_count": 25,
     "metadata": {},
     "output_type": "execute_result"
    }
   ],
   "source": [
    "compress('AAABBCC')"
   ]
  },
  {
   "cell_type": "code",
   "execution_count": 26,
   "metadata": {
    "collapsed": false
   },
   "outputs": [
    {
     "name": "stdout",
     "output_type": "stream",
     "text": [
      "ALL TEST CASES PASSED\n"
     ]
    }
   ],
   "source": [
    "\"\"\"\n",
    "RUN THIS CELL TO TEST YOUR SOLUTION\n",
    "\"\"\"\n",
    "from nose.tools import assert_equal\n",
    "\n",
    "class TestCompress(object):\n",
    "\n",
    "    def test(self, sol):\n",
    "        assert_equal(sol(''), '')\n",
    "        assert_equal(sol('AABBCC'), 'A2B2C2')\n",
    "        assert_equal(sol('AAABCCDDDDD'), 'A3B1C2D5')\n",
    "        print 'ALL TEST CASES PASSED'\n",
    "\n",
    "# Run Tests\n",
    "t = TestCompress()\n",
    "t.test(compress)"
   ]
  },
  {
   "cell_type": "markdown",
   "metadata": {},
   "source": [
    "## unique characters in string"
   ]
  },
  {
   "cell_type": "code",
   "execution_count": 13,
   "metadata": {
    "collapsed": false
   },
   "outputs": [],
   "source": [
    "def uni_char(s):\n",
    "    seen = set()\n",
    "    for i in s:\n",
    "        if i in seen:\n",
    "            return False\n",
    "        else:\n",
    "            seen.add(i)\n",
    "    return True\n",
    "\n",
    "def uni_char1(s):\n",
    "    if len(s) == 1:\n",
    "        return True\n",
    "    \n",
    "    length = len(s)\n",
    "    i = 1\n",
    "\n",
    "    while i < length:\n",
    "        if s[i] == s[i-1]:\n",
    "            return False\n",
    "        i+=1\n",
    "        \n",
    "    return True\n",
    "\n",
    "def uni_char2(s):\n",
    "    unique_dict = {}\n",
    "    for i in s:\n",
    "        if i in unique_dict:\n",
    "            return False\n",
    "        else:\n",
    "            unique_dict[i] = 1\n",
    "        \n",
    "    return True"
   ]
  },
  {
   "cell_type": "code",
   "execution_count": 14,
   "metadata": {
    "collapsed": false
   },
   "outputs": [
    {
     "data": {
      "text/plain": [
       "'\\nRUN THIS CELL TO TEST YOUR CODE>\\n'"
      ]
     },
     "execution_count": 14,
     "metadata": {},
     "output_type": "execute_result"
    },
    {
     "name": "stdout",
     "output_type": "stream",
     "text": [
      "ALL TEST CASES PASSED\n",
      "ALL TEST CASES PASSED\n",
      "ALL TEST CASES PASSED\n"
     ]
    }
   ],
   "source": [
    "\"\"\"\n",
    "RUN THIS CELL TO TEST YOUR CODE>\n",
    "\"\"\"\n",
    "from nose.tools import assert_equal\n",
    "\n",
    "\n",
    "class TestUnique(object):\n",
    "\n",
    "    def test(self, sol):\n",
    "        assert_equal(sol(''), True)\n",
    "        assert_equal(sol('goo'), False)\n",
    "        assert_equal(sol('abcdefg'), True)\n",
    "        print 'ALL TEST CASES PASSED'\n",
    "        \n",
    "# Run Tests\n",
    "t = TestUnique()\n",
    "t.test(uni_char)\n",
    "t.test(uni_char1)\n",
    "t.test(uni_char2)"
   ]
  },
  {
   "cell_type": "markdown",
   "metadata": {
    "collapsed": true
   },
   "source": [
    "### how to reverse a string in python"
   ]
  },
  {
   "cell_type": "code",
   "execution_count": 39,
   "metadata": {
    "collapsed": false
   },
   "outputs": [
    {
     "data": {
      "text/plain": [
       "'ayema'"
      ]
     },
     "execution_count": 39,
     "metadata": {},
     "output_type": "execute_result"
    }
   ],
   "source": [
    "temp=\"ameya\"\n",
    "temp = temp[::-1]\n",
    "temp"
   ]
  },
  {
   "cell_type": "code",
   "execution_count": 40,
   "metadata": {
    "collapsed": true
   },
   "outputs": [],
   "source": [
    "temp = \"ameya\""
   ]
  },
  {
   "cell_type": "code",
   "execution_count": 41,
   "metadata": {
    "collapsed": false
   },
   "outputs": [
    {
     "name": "stdout",
     "output_type": "stream",
     "text": [
      "5\n",
      "ameya\n",
      "a\n",
      "y\n",
      "e\n",
      "m\n",
      "a\n"
     ]
    }
   ],
   "source": [
    "z = len(temp)\n",
    "print z\n",
    "print temp\n",
    "\n",
    "while z > 0:\n",
    "    print(temp[z-1])\n",
    "    z = z-1"
   ]
  },
  {
   "cell_type": "code",
   "execution_count": null,
   "metadata": {
    "collapsed": true
   },
   "outputs": [],
   "source": []
  }
 ],
 "metadata": {
  "kernelspec": {
   "display_name": "Python 2",
   "language": "python",
   "name": "python2"
  },
  "language_info": {
   "codemirror_mode": {
    "name": "ipython",
    "version": 2
   },
   "file_extension": ".py",
   "mimetype": "text/x-python",
   "name": "python",
   "nbconvert_exporter": "python",
   "pygments_lexer": "ipython2",
   "version": "2.7.11"
  }
 },
 "nbformat": 4,
 "nbformat_minor": 0
}
