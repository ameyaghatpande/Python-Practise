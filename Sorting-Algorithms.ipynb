{
 "cells": [
  {
   "cell_type": "code",
   "execution_count": 2,
   "metadata": {},
   "outputs": [],
   "source": [
    "# <aghatpande> on 07-Mar-2017\n",
    "# print all the outputs in a cell\n",
    "from IPython.core.interactiveshell import InteractiveShell\n",
    "InteractiveShell.ast_node_interactivity = \"all\""
   ]
  },
  {
   "cell_type": "code",
   "execution_count": 3,
   "metadata": {},
   "outputs": [],
   "source": [
    "import pandas as pd\n",
    "import numpy as np"
   ]
  },
  {
   "cell_type": "markdown",
   "metadata": {},
   "source": [
    "#### Sorting algorithms implemented in Python"
   ]
  },
  {
   "cell_type": "markdown",
   "metadata": {},
   "source": [
    "#### 1] Brute force - Selection Sort - In this algorithm, the array is traversed n times and during each (i th) traversal minimum element is selected and interchanged with the ith element. So at the end of ith iteration, the list is sorted till len (i)\n",
    "\n",
    "#### For each iteration, it has two operations\n",
    "\n",
    "1. Comparison of (n-i) elements to find minimum element for that iteration\n",
    "2. Interchange/Swap two elements\n",
    "\n"
   ]
  },
  {
   "cell_type": "code",
   "execution_count": 17,
   "metadata": {},
   "outputs": [
    {
     "name": "stdout",
     "output_type": "stream",
     "text": [
      "The input list is [5, 3, 1, 8, 2]\n",
      "Selection sort list is [1, 3, 5, 8, 2]\n",
      "Selection sort list is [1, 3, 5, 8, 2]\n",
      "Selection sort list is [1, 3, 5, 8, 2]\n",
      "Selection sort list is [1, 3, 5, 8, 2]\n",
      "The Sorted list is [1, 3, 5, 8, 2]\n",
      "The input list is [5, 5, 5, 5, 1]\n",
      "Selection sort list is [5, 5, 5, 5, 1]\n",
      "Selection sort list is [5, 5, 5, 5, 1]\n",
      "Selection sort list is [5, 5, 5, 5, 1]\n",
      "Selection sort list is [5, 5, 5, 5, 1]\n",
      "The Sorted list is [5, 5, 5, 5, 1]\n"
     ]
    }
   ],
   "source": [
    "def performSelectionSort(testArray):\n",
    "    i = 0\n",
    "    # For sorting N elements, we need only N-1 iterations\n",
    "    while (i < (len(testArray) -1)):\n",
    "        temp = testArray[i]\n",
    "        minimumNumberIndexForCurrentIteration = i\n",
    "        j = i + 1\n",
    "        while (j < len(testArray) -1):\n",
    "            if testArray[minimumNumberIndexForCurrentIteration] > testArray[j] :\n",
    "                minimumNumberIndexForCurrentIteration = j\n",
    "            j = j + 1\n",
    "\n",
    "        testArray[i] = testArray[minimumNumberIndexForCurrentIteration]\n",
    "        testArray[minimumNumberIndexForCurrentIteration] = temp\n",
    "        print(\"Selection sort list is\", testArray)\n",
    "        i = i + 1\n",
    "    return testArray\n",
    " \n",
    "testArray = [5,3,1,8,2]\n",
    "print(\"The input list is\", testArray)\n",
    "sortedArray = performSelectionSort(testArray)\n",
    "print(\"The Sorted list is\", sortedArray)\n",
    "\n",
    "testArray = [5,5,5,5,1]\n",
    "print(\"The input list is\", testArray)\n",
    "sortedArray = performSelectionSort(testArray)\n",
    "print(\"The Sorted list is\", sortedArray)"
   ]
  },
  {
   "cell_type": "markdown",
   "metadata": {},
   "source": [
    "#### 2] Brute force - Bubble Sort - In this algorithm, the array is traversed from back to front and minimum element for that iteration is pushed/bubbled to the top/front\n",
    "\n",
    "#### For each iteration, it has two operations\n",
    "\n",
    "1. Comparison of (n-i) terms\n",
    "2. Interchange/Swap of maximum (n-i) terms"
   ]
  },
  {
   "cell_type": "code",
   "execution_count": 28,
   "metadata": {},
   "outputs": [
    {
     "name": "stdout",
     "output_type": "stream",
     "text": [
      "The input list is [5, 4, 2, 1]\n",
      "Bubble sort list is [1, 5, 4, 2]\n",
      "Bubble sort list is [1, 2, 5, 4]\n",
      "Bubble sort list is [1, 2, 4, 5]\n",
      "The Sorted list is [1, 2, 4, 5]\n",
      "The input list is [5, 5, 5, 5, 1]\n",
      "Bubble sort list is [1, 5, 5, 5, 5]\n",
      "Bubble sort list is [1, 5, 5, 5, 5]\n",
      "Bubble sort list is [1, 5, 5, 5, 5]\n",
      "Bubble sort list is [1, 5, 5, 5, 5]\n",
      "The Sorted list is [1, 5, 5, 5, 5]\n"
     ]
    }
   ],
   "source": [
    "def performBubbleSort(testArray):\n",
    "    i = 0\n",
    "    # For sorting N elements, we need only N-1 iterations\n",
    "    while (i < len(testArray)-1):\n",
    "        j = len(testArray)-1\n",
    "        while (j > i):\n",
    "            if testArray[j] < testArray[j-1] :\n",
    "                temp = testArray[j]\n",
    "                testArray[j] = testArray[j -1]\n",
    "                testArray[j -1] = temp\n",
    "            j = j - 1 \n",
    "        print(\"Bubble sort list is\", testArray)\n",
    "\n",
    "        i = i + 1\n",
    "    return testArray\n",
    " \n",
    "testArray = [5,4,2,1]\n",
    "print(\"The input list is\", testArray)\n",
    "sortedArray = performBubbleSort(testArray)\n",
    "print(\"The Sorted list is\", sortedArray)\n",
    "\n",
    "testArray = [5,5,5,5,1]\n",
    "print(\"The input list is\", testArray)\n",
    "sortedArray = performBubbleSort(testArray)\n",
    "print(\"The Sorted list is\", sortedArray)"
   ]
  },
  {
   "cell_type": "markdown",
   "metadata": {},
   "source": [
    "#### 3] Reduce and conquer Algorithm - Insertion Sort\n",
    "#### In this algorithm, in every iteration i, we insert the A[i] in the corrrect place for all the items from A[0] to A[i-1]\n",
    "#### So first we reduce the array into size 1 and then keep inserting the elements at the right place recursively\n",
    "#### This is like inserting a new card when we are already holding some cards in hand"
   ]
  },
  {
   "cell_type": "code",
   "execution_count": 77,
   "metadata": {},
   "outputs": [],
   "source": [
    "def performInsertionSort(testArray, sizeOfArray):\n",
    "    #print(\"sizeOfArray is {} and input array is {}\".format (sizeOfArray, testArray))\n",
    "    if sizeOfArray == 1:\n",
    "        return\n",
    "    \n",
    "    performInsertionSort(testArray, sizeOfArray-1)\n",
    "    \n",
    "    temp = sizeOfArray - 1\n",
    "    i = sizeOfArray - 1\n",
    "    #print(\" size of i\", i)\n",
    "    currentElement = testArray[i]\n",
    "    #print(\"current element is \", currentElement)\n",
    "    while (i > 0 and currentElement <  testArray[i-1]):\n",
    "        testArray[i] = testArray[i-1]\n",
    "        i = i - 1\n",
    "    \n",
    "    testArray[i] = currentElement \n",
    "    print(\"After iteration {} the testArray is {}\".format(temp,testArray) )\n",
    "    return testArray"
   ]
  },
  {
   "cell_type": "code",
   "execution_count": 78,
   "metadata": {},
   "outputs": [
    {
     "name": "stdout",
     "output_type": "stream",
     "text": [
      "The input list is [5, 5, 5, 5, 1]\n",
      "After iteration 1 the testArray is [5, 5, 5, 5, 1]\n",
      "After iteration 2 the testArray is [5, 5, 5, 5, 1]\n",
      "After iteration 3 the testArray is [5, 5, 5, 5, 1]\n",
      "After iteration 4 the testArray is [1, 5, 5, 5, 5]\n",
      "The Sorted list is [1, 5, 5, 5, 5]\n",
      "The input list is [5, 4, 2, 7]\n",
      "After iteration 1 the testArray is [4, 5, 2, 7]\n",
      "After iteration 2 the testArray is [2, 4, 5, 7]\n",
      "After iteration 3 the testArray is [2, 4, 5, 7]\n",
      "The Sorted list is [2, 4, 5, 7]\n"
     ]
    }
   ],
   "source": [
    "testArray = [5,5,5,5,1]\n",
    "print(\"The input list is\", testArray)\n",
    "performInsertionSort(testArray, len(testArray))\n",
    "print(\"The Sorted list is\", testArray)\n",
    "\n",
    "testArray = [5,4,2,7]\n",
    "print(\"The input list is\", testArray)\n",
    "temp = performInsertionSort(testArray, len(testArray))\n",
    "print(\"The Sorted list is\", temp)"
   ]
  },
  {
   "cell_type": "markdown",
   "metadata": {},
   "source": [
    "#### 4] Divide and Conquer - Merge Sort - In this algorithm, the array is recursively divided by half (until only 1 element is left) and sorted. Then it is merged/ joined back to the main array. \n",
    "\n",
    "#### It does following logic\n",
    "\n",
    "1. Recursively split the array into Half until only 1 element is left\n",
    "2. Merge back the elements to form the original array back"
   ]
  },
  {
   "cell_type": "code",
   "execution_count": 80,
   "metadata": {},
   "outputs": [
    {
     "name": "stdout",
     "output_type": "stream",
     "text": [
      "The input list is [5, 4, 2, 1]\n",
      "The Sorted list is [1, 2, 4, 5]\n",
      "The input list is [5, 5, 5, 5, 1]\n",
      "The Sorted list is [1, 5, 5, 5, 5]\n"
     ]
    }
   ],
   "source": [
    "def merge(L,R,A):\n",
    "    lenghtOfL = len(L)\n",
    "    lenghtofR = len(R)\n",
    "    i=j=k=0 \n",
    "    \n",
    "    while (i < lenghtOfL and j < lenghtofR):\n",
    "        if(L[i] <= R[j]):\n",
    "            A[k] = L[i]\n",
    "            i = i +1\n",
    "        else:\n",
    "            A[k] = R[j]\n",
    "            j = j +1\n",
    "        \n",
    "        k = k+1\n",
    "        \n",
    "    while i < lenghtOfL:\n",
    "        A[k] = L[i]\n",
    "        i=i+1\n",
    "        k=k+1\n",
    "\n",
    "    while j < lenghtofR:\n",
    "        A[k] = R[j]\n",
    "        j=j+1\n",
    "        k=k+1\n",
    "        \n",
    "    #return A\n",
    "        \n",
    "\n",
    "def performMergeSort(testArray):\n",
    "    \n",
    "    if len(testArray) < 2:\n",
    "        return\n",
    "    \n",
    "    mid = int (len(testArray) / 2)\n",
    "    \n",
    "    leftArray = testArray[:mid]\n",
    "    rightArray = testArray[mid:]\n",
    "    \n",
    "    performMergeSort(leftArray)\n",
    "    performMergeSort(rightArray)\n",
    "    merge(leftArray,rightArray,testArray)\n",
    "    return testArray\n",
    "\n",
    " \n",
    "testArray = [5,4,2,1]\n",
    "print(\"The input list is\", testArray)\n",
    "sortedArray = performMergeSort(testArray)\n",
    "print(\"The Sorted list is\", sortedArray)\n",
    "\n",
    "testArray = [5,5,5,5,1]\n",
    "print(\"The input list is\", testArray)\n",
    "sortedArray = performMergeSort(testArray)\n",
    "print(\"The Sorted list is\", sortedArray)"
   ]
  },
  {
   "cell_type": "markdown",
   "metadata": {},
   "source": [
    "#### 5] Divide and Conquer - Quicksort\n",
    "#### Quick sort has same logic as Merge sort, but now instead of splitting and sorting the array into two using index, we divide the array into Lower-than and higher-than parts using a given value.\n",
    "#### The main advantage of Quicksort over merge sort is - NO combine step required since the the two arrays are already sorted using recursion.\n",
    "#### In-place algo - No auxiallary array required. So less memory required."
   ]
  },
  {
   "cell_type": "code",
   "execution_count": 158,
   "metadata": {},
   "outputs": [
    {
     "name": "stdout",
     "output_type": "stream",
     "text": [
      "The input list is [4, 5, 8, 2, 3, 1]\n",
      "temp array is [4, 1, 8, 2, 3, 5]\n",
      "temp array is [4, 1, 3, 2, 8, 5]\n",
      "Intermediate value of testArray is [2, 1, 3, 4, 8, 5]\n",
      "Intermediate value of testArray is [1, 2, 3, 4, 8, 5]\n",
      "Intermediate value of testArray is [1, 2, 3, 4, 5, 8]\n",
      "The Sorted list is [1, 2, 3, 4, 5, 8]\n",
      "The input list is [5, 5, 1]\n",
      "Intermediate value of testArray is [1, 5, 5]\n",
      "Intermediate value of testArray is [1, 5, 5]\n",
      "The Sorted list is [1, 5, 5]\n",
      "The input list is [0, 10, 20, 5, 2, 7, 9, -3]\n",
      "temp array is [0, -3, 20, 5, 2, 7, 9, 10]\n",
      "Intermediate value of testArray is [-3, 0, 20, 5, 2, 7, 9, 10]\n",
      "Intermediate value of testArray is [-3, 0, 10, 5, 2, 7, 9, 20]\n",
      "Intermediate value of testArray is [-3, 0, 9, 5, 2, 7, 10, 20]\n",
      "Intermediate value of testArray is [-3, 0, 7, 5, 2, 9, 10, 20]\n",
      "Intermediate value of testArray is [-3, 0, 2, 5, 7, 9, 10, 20]\n",
      "Intermediate value of testArray is [-3, 0, 2, 5, 7, 9, 10, 20]\n",
      "The Sorted list is [-3, 0, 2, 5, 7, 9, 10, 20]\n"
     ]
    }
   ],
   "source": [
    "def partition(testArray, lower, upper):\n",
    "\n",
    "    pindex = lower\n",
    "    pivot = testArray[lower]\n",
    "    lower = lower +1\n",
    "    while (True):\n",
    "        while testArray[lower] <= pivot and lower < upper:\n",
    "            lower = lower + 1\n",
    "        while testArray[upper] > pivot:\n",
    "            upper = upper - 1\n",
    "            \n",
    "        if (lower >= upper):\n",
    "            testArray[upper], testArray[pindex] = testArray[pindex], testArray[upper]\n",
    "            print(\"Intermediate value of testArray is {}\".format(testArray))\n",
    "            return upper\n",
    "        \n",
    "        testArray[lower], testArray[upper] = testArray[upper], testArray[lower]\n",
    "        print(\"temp array is {}\".format(testArray))\n",
    "        \n",
    "\n",
    "def Partition1(a, low, high):\n",
    "\n",
    "    pivot = a[low]\n",
    "    (i, j) = (low - 1, high + 1)\n",
    "    print (\"values of i and j are {} and {}\".format(i,j))\n",
    "\n",
    "    while True:\n",
    "\n",
    "        while True:\n",
    "            i = i + 1\n",
    "            if a[i] >= pivot:\n",
    "                break\n",
    "\n",
    "        while True:\n",
    "            j = j - 1\n",
    "            if a[j] <= pivot:\n",
    "                break\n",
    "\n",
    "        if i >= j:\n",
    "            return j\n",
    "\n",
    "        print(\"values of i and j after itearation are {} and {}\".format(i,j))\n",
    "        testArray[i], testArray[j] = testArray[j], testArray[i]\n",
    "        print(\"Array after swapping {}\".format(testArray))\n",
    "        \n",
    "\n",
    "def performQuickSort(testArray, lower, upper):\n",
    "    \n",
    "    if lower >= upper:\n",
    "        return\n",
    "    \n",
    "    pivot = partition(testArray, lower, upper)\n",
    "    performQuickSort(testArray, lower, pivot-1)\n",
    "    performQuickSort(testArray, pivot+1, upper)\n",
    "\n",
    " \n",
    "testArray = [4,5,8,2,3,1]\n",
    "print(\"The input list is\", testArray)\n",
    "performQuickSort(testArray, 0, len(testArray)-1)\n",
    "print(\"The Sorted list is\", testArray)\n",
    "\n",
    "testArray = [5,5,1]\n",
    "print(\"The input list is\", testArray)\n",
    "performQuickSort(testArray, 0, len(testArray)-1)\n",
    "print(\"The Sorted list is\", testArray)\n",
    "\n",
    "testArray = [0,10,20,5,2,7,9,-3]\n",
    "print(\"The input list is\", testArray)\n",
    "performQuickSort(testArray, 0, len(testArray)-1)\n",
    "print(\"The Sorted list is\", testArray)"
   ]
  },
  {
   "cell_type": "code",
   "execution_count": null,
   "metadata": {},
   "outputs": [],
   "source": []
  }
 ],
 "metadata": {
  "kernelspec": {
   "display_name": "Python 3",
   "language": "python",
   "name": "python3"
  },
  "language_info": {
   "codemirror_mode": {
    "name": "ipython",
    "version": 3
   },
   "file_extension": ".py",
   "mimetype": "text/x-python",
   "name": "python",
   "nbconvert_exporter": "python",
   "pygments_lexer": "ipython3",
   "version": "3.8.3"
  }
 },
 "nbformat": 4,
 "nbformat_minor": 1
}
