{
 "cells": [
  {
   "cell_type": "code",
   "execution_count": 2,
   "metadata": {},
   "outputs": [],
   "source": [
    "# <aghatpande> on 07-Mar-2017\n",
    "# print all the outputs in a cell\n",
    "from IPython.core.interactiveshell import InteractiveShell\n",
    "InteractiveShell.ast_node_interactivity = \"all\""
   ]
  },
  {
   "cell_type": "code",
   "execution_count": 3,
   "metadata": {},
   "outputs": [],
   "source": [
    "import pandas as pd\n",
    "import numpy as np"
   ]
  },
  {
   "cell_type": "markdown",
   "metadata": {},
   "source": [
    "#### Sorting algorithms implemented in Python"
   ]
  },
  {
   "cell_type": "markdown",
   "metadata": {},
   "source": [
    "#### 1] Brute force - Selection Sort - In this algorithm, the array is traversed n times and during each (i th) traversal minimum element is selected and interchanged with the ith element. So at the end of ith iteration, the list is sorted till len (i)\n",
    "\n",
    "#### For each iteration, it has two operations\n",
    "\n",
    "1. Comparison of (n-i) elements to find minimum element for that iteration\n",
    "2. Interchange/Swap two elements\n",
    "\n"
   ]
  },
  {
   "cell_type": "code",
   "execution_count": 17,
   "metadata": {},
   "outputs": [
    {
     "name": "stdout",
     "output_type": "stream",
     "text": [
      "The input list is [5, 3, 1, 8, 2]\n",
      "Selection sort list is [1, 3, 5, 8, 2]\n",
      "Selection sort list is [1, 3, 5, 8, 2]\n",
      "Selection sort list is [1, 3, 5, 8, 2]\n",
      "Selection sort list is [1, 3, 5, 8, 2]\n",
      "The Sorted list is [1, 3, 5, 8, 2]\n",
      "The input list is [5, 5, 5, 5, 1]\n",
      "Selection sort list is [5, 5, 5, 5, 1]\n",
      "Selection sort list is [5, 5, 5, 5, 1]\n",
      "Selection sort list is [5, 5, 5, 5, 1]\n",
      "Selection sort list is [5, 5, 5, 5, 1]\n",
      "The Sorted list is [5, 5, 5, 5, 1]\n"
     ]
    }
   ],
   "source": [
    "def performSelectionSort(testArray):\n",
    "    i = 0\n",
    "    # For sorting N elements, we need only N-1 iterations\n",
    "    while (i < (len(testArray) -1)):\n",
    "        temp = testArray[i]\n",
    "        minimumNumberIndexForCurrentIteration = i\n",
    "        j = i + 1\n",
    "        while (j < len(testArray) -1):\n",
    "            if testArray[minimumNumberIndexForCurrentIteration] > testArray[j] :\n",
    "                minimumNumberIndexForCurrentIteration = j\n",
    "            j = j + 1\n",
    "\n",
    "        testArray[i] = testArray[minimumNumberIndexForCurrentIteration]\n",
    "        testArray[minimumNumberIndexForCurrentIteration] = temp\n",
    "        print(\"Selection sort list is\", testArray)\n",
    "        i = i + 1\n",
    "    return testArray\n",
    " \n",
    "testArray = [5,3,1,8,2]\n",
    "print(\"The input list is\", testArray)\n",
    "sortedArray = performSelectionSort(testArray)\n",
    "print(\"The Sorted list is\", sortedArray)\n",
    "\n",
    "testArray = [5,5,5,5,1]\n",
    "print(\"The input list is\", testArray)\n",
    "sortedArray = performSelectionSort(testArray)\n",
    "print(\"The Sorted list is\", sortedArray)"
   ]
  },
  {
   "cell_type": "markdown",
   "metadata": {},
   "source": [
    "#### 2] Brute force - Bubble Sort - In this algorithm, the array is traversed from back to front and minimum element for that iteration is pushed/bubbled to the top/front\n",
    "\n",
    "#### For each iteration, it has two operations\n",
    "\n",
    "1. Comparison of (n-i) terms\n",
    "2. Interchange/Swap of maximum (n-i) terms"
   ]
  },
  {
   "cell_type": "code",
   "execution_count": 28,
   "metadata": {},
   "outputs": [
    {
     "name": "stdout",
     "output_type": "stream",
     "text": [
      "The input list is [5, 4, 2, 1]\n",
      "Bubble sort list is [1, 5, 4, 2]\n",
      "Bubble sort list is [1, 2, 5, 4]\n",
      "Bubble sort list is [1, 2, 4, 5]\n",
      "The Sorted list is [1, 2, 4, 5]\n",
      "The input list is [5, 5, 5, 5, 1]\n",
      "Bubble sort list is [1, 5, 5, 5, 5]\n",
      "Bubble sort list is [1, 5, 5, 5, 5]\n",
      "Bubble sort list is [1, 5, 5, 5, 5]\n",
      "Bubble sort list is [1, 5, 5, 5, 5]\n",
      "The Sorted list is [1, 5, 5, 5, 5]\n"
     ]
    }
   ],
   "source": [
    "def performBubbleSort(testArray):\n",
    "    i = 0\n",
    "    # For sorting N elements, we need only N-1 iterations\n",
    "    while (i < len(testArray)-1):\n",
    "        j = len(testArray)-1\n",
    "        while (j > i):\n",
    "            if testArray[j] < testArray[j-1] :\n",
    "                temp = testArray[j]\n",
    "                testArray[j] = testArray[j -1]\n",
    "                testArray[j -1] = temp\n",
    "            j = j - 1 \n",
    "        print(\"Bubble sort list is\", testArray)\n",
    "\n",
    "        i = i + 1\n",
    "    return testArray\n",
    " \n",
    "testArray = [5,4,2,1]\n",
    "print(\"The input list is\", testArray)\n",
    "sortedArray = performBubbleSort(testArray)\n",
    "print(\"The Sorted list is\", sortedArray)\n",
    "\n",
    "testArray = [5,5,5,5,1]\n",
    "print(\"The input list is\", testArray)\n",
    "sortedArray = performBubbleSort(testArray)\n",
    "print(\"The Sorted list is\", sortedArray)"
   ]
  },
  {
   "cell_type": "markdown",
   "metadata": {},
   "source": [
    "#### 3] Divide and Conquer - Merge Sort - In this algorithm, the array is recursively divided by half (until only 1 element is left) and sorted and merged/ joined back to the main array. \n",
    "\n",
    "#### It does following logic\n",
    "\n",
    "1. Recursively split the array into Half until only 1 element is left\n",
    "2. Merge back the elements to form the original array back"
   ]
  },
  {
   "cell_type": "code",
   "execution_count": 29,
   "metadata": {},
   "outputs": [
    {
     "name": "stdout",
     "output_type": "stream",
     "text": [
      "The input list is [5, 4, 2, 1]\n",
      "The Sorted list is [1, 2, 4, 5]\n",
      "The input list is [5, 5, 5, 5, 1]\n",
      "The Sorted list is [1, 5, 5, 5, 5]\n"
     ]
    }
   ],
   "source": [
    "def merge(L,R,A):\n",
    "    lenghtOfL = len(L)\n",
    "    lenghtofR = len(R)\n",
    "    lengthofA = len(A)\n",
    "    i=j=k=0 \n",
    "    \n",
    "    while (i < lenghtOfL and j < lenghtofR):\n",
    "        if(L[i] <= R[j]):\n",
    "            A[k] = L[i]\n",
    "            i = i +1\n",
    "        else:\n",
    "            A[k] = R[j]\n",
    "            j = j +1\n",
    "        \n",
    "        k = k+1\n",
    "        \n",
    "    while i < lenghtOfL:\n",
    "        A[k] = L[i]\n",
    "        i=i+1\n",
    "        k=k+1\n",
    "\n",
    "    while j < lenghtofR:\n",
    "        A[k] = R[j]\n",
    "        j=j+1\n",
    "        k=k+1\n",
    "        \n",
    "    #return A\n",
    "        \n",
    "\n",
    "def performMergeSort(testArray):\n",
    "    \n",
    "    if len(testArray) < 2:\n",
    "        return\n",
    "    \n",
    "    mid = int (len(testArray) / 2)\n",
    "    \n",
    "    leftArray = testArray[:mid]\n",
    "    rightArray = testArray[mid:]\n",
    "    \n",
    "    performMergeSort(leftArray)\n",
    "    performMergeSort(rightArray)\n",
    "    merge(leftArray,rightArray,testArray)\n",
    "    return testArray\n",
    "\n",
    " \n",
    "testArray = [5,4,2,1]\n",
    "print(\"The input list is\", testArray)\n",
    "sortedArray = performMergeSort(testArray)\n",
    "print(\"The Sorted list is\", sortedArray)\n",
    "\n",
    "testArray = [5,5,5,5,1]\n",
    "print(\"The input list is\", testArray)\n",
    "sortedArray = performMergeSort(testArray)\n",
    "print(\"The Sorted list is\", sortedArray)"
   ]
  }
 ],
 "metadata": {
  "kernelspec": {
   "display_name": "Python 3",
   "language": "python",
   "name": "python3"
  },
  "language_info": {
   "codemirror_mode": {
    "name": "ipython",
    "version": 3
   },
   "file_extension": ".py",
   "mimetype": "text/x-python",
   "name": "python",
   "nbconvert_exporter": "python",
   "pygments_lexer": "ipython3",
   "version": "3.8.3"
  }
 },
 "nbformat": 4,
 "nbformat_minor": 1
}
