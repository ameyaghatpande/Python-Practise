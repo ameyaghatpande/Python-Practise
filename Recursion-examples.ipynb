{
 "cells": [
  {
   "cell_type": "code",
   "execution_count": 4,
   "metadata": {},
   "outputs": [],
   "source": [
    "# <aghatpande> on 07-Mar-2017\n",
    "# print all the outputs in a cell\n",
    "from IPython.core.interactiveshell import InteractiveShell\n",
    "InteractiveShell.ast_node_interactivity = \"all\""
   ]
  },
  {
   "cell_type": "code",
   "execution_count": 5,
   "metadata": {},
   "outputs": [],
   "source": [
    "import pandas as pd\n",
    "import numpy as np"
   ]
  },
  {
   "cell_type": "markdown",
   "metadata": {},
   "source": [
    "### Question 1 Reverse a string using Recursion"
   ]
  },
  {
   "cell_type": "code",
   "execution_count": 145,
   "metadata": {},
   "outputs": [],
   "source": [
    "def rev(str):\n",
    "    if len(str) == 0 or len(str) == 1:\n",
    "        return str\n",
    "    else:\n",
    "        return str[(len(str) - 1)] + rev(str[:len(str) - 1]) "
   ]
  },
  {
   "cell_type": "code",
   "execution_count": 146,
   "metadata": {},
   "outputs": [
    {
     "data": {
      "text/plain": [
       "''"
      ]
     },
     "execution_count": 146,
     "metadata": {},
     "output_type": "execute_result"
    },
    {
     "data": {
      "text/plain": [
       "'cba'"
      ]
     },
     "execution_count": 146,
     "metadata": {},
     "output_type": "execute_result"
    },
    {
     "data": {
      "text/plain": [
       "'ayema'"
      ]
     },
     "execution_count": 146,
     "metadata": {},
     "output_type": "execute_result"
    },
    {
     "data": {
      "text/plain": [
       "'ikin'"
      ]
     },
     "execution_count": 146,
     "metadata": {},
     "output_type": "execute_result"
    },
    {
     "data": {
      "text/plain": [
       "'n'"
      ]
     },
     "execution_count": 146,
     "metadata": {},
     "output_type": "execute_result"
    }
   ],
   "source": [
    "rev(\"\")\n",
    "rev(\"abc\")\n",
    "rev(\"ameya\")\n",
    "rev(\"niki\")\n",
    "rev(\"n\")"
   ]
  },
  {
   "cell_type": "markdown",
   "metadata": {},
   "source": [
    "### Question 2 - fibonaci series method 1\n",
    "### Here there are two base cases because the recursive method has two terms -- (n-1) + (n-2)\n",
    "### Complexity of this recursion is bad - exponential. Anywhere between 1.4 raise to n TO 2 raise to n\n",
    "#### O(1.4 ** n) to O(2 ** n)"
   ]
  },
  {
   "cell_type": "code",
   "execution_count": 147,
   "metadata": {},
   "outputs": [],
   "source": [
    "def fibo(n):\n",
    "    if n == 0 or n == 1:\n",
    "        return n\n",
    "    else:\n",
    "        #return is important in this else\n",
    "        return fibo(n-1) + fibo(n-2)"
   ]
  },
  {
   "cell_type": "code",
   "execution_count": 148,
   "metadata": {},
   "outputs": [
    {
     "data": {
      "text/plain": [
       "0"
      ]
     },
     "execution_count": 148,
     "metadata": {},
     "output_type": "execute_result"
    },
    {
     "data": {
      "text/plain": [
       "1"
      ]
     },
     "execution_count": 148,
     "metadata": {},
     "output_type": "execute_result"
    },
    {
     "data": {
      "text/plain": [
       "2"
      ]
     },
     "execution_count": 148,
     "metadata": {},
     "output_type": "execute_result"
    },
    {
     "data": {
      "text/plain": [
       "5"
      ]
     },
     "execution_count": 148,
     "metadata": {},
     "output_type": "execute_result"
    },
    {
     "data": {
      "text/plain": [
       "55"
      ]
     },
     "execution_count": 148,
     "metadata": {},
     "output_type": "execute_result"
    }
   ],
   "source": [
    "temp = fibo(0)\n",
    "temp\n",
    "temp = fibo(1)\n",
    "temp\n",
    "temp = fibo(3)\n",
    "temp\n",
    "temp = fibo(5)\n",
    "temp\n",
    "temp = fibo(10)\n",
    "temp"
   ]
  },
  {
   "cell_type": "markdown",
   "metadata": {},
   "source": [
    "### Question 2-A - Fibonacci series - method 2\n",
    "### Lets implement this in O(n) - linear\n",
    "### If we consider fibonacci series is a special case of additive series which start from 0 , 1\n",
    "#### Additive series is any series where n3 = n2+n1 etc."
   ]
  },
  {
   "cell_type": "code",
   "execution_count": 149,
   "metadata": {},
   "outputs": [],
   "source": [
    "def fiboLinear(n, b1, b2):\n",
    "    if n == 0:\n",
    "        return b1\n",
    "    else:\n",
    "        #return is important in this else\n",
    "        return fiboLinear(n-1, b2, b1+b2)"
   ]
  },
  {
   "cell_type": "code",
   "execution_count": 150,
   "metadata": {},
   "outputs": [
    {
     "data": {
      "text/plain": [
       "0"
      ]
     },
     "execution_count": 150,
     "metadata": {},
     "output_type": "execute_result"
    },
    {
     "data": {
      "text/plain": [
       "1"
      ]
     },
     "execution_count": 150,
     "metadata": {},
     "output_type": "execute_result"
    },
    {
     "data": {
      "text/plain": [
       "2"
      ]
     },
     "execution_count": 150,
     "metadata": {},
     "output_type": "execute_result"
    },
    {
     "data": {
      "text/plain": [
       "5"
      ]
     },
     "execution_count": 150,
     "metadata": {},
     "output_type": "execute_result"
    },
    {
     "data": {
      "text/plain": [
       "55"
      ]
     },
     "execution_count": 150,
     "metadata": {},
     "output_type": "execute_result"
    }
   ],
   "source": [
    "temp = fiboLinear(0,0,1)\n",
    "temp\n",
    "temp = fiboLinear(1,0,1)\n",
    "temp\n",
    "temp = fiboLinear(3,0,1)\n",
    "temp\n",
    "temp = fiboLinear(5,0,1)\n",
    "temp\n",
    "temp = fiboLinear(10,0,1)\n",
    "temp"
   ]
  },
  {
   "cell_type": "markdown",
   "metadata": {},
   "source": [
    "### Question 3 - Print Fibonacci series instead of returning the sum"
   ]
  },
  {
   "cell_type": "code",
   "execution_count": 151,
   "metadata": {},
   "outputs": [],
   "source": [
    "def printfiboSeq(n, b1,b2, result):\n",
    "    if n == 0:\n",
    "        return\n",
    "    else:\n",
    "        result.append(b1)\n",
    "        return printfiboSeq(n-1, b2, b1 + b2, result)"
   ]
  },
  {
   "cell_type": "code",
   "execution_count": 152,
   "metadata": {},
   "outputs": [
    {
     "data": {
      "text/plain": [
       "[0, 1, 1]"
      ]
     },
     "execution_count": 152,
     "metadata": {},
     "output_type": "execute_result"
    },
    {
     "data": {
      "text/plain": [
       "[0, 1, 1, 2, 3]"
      ]
     },
     "execution_count": 152,
     "metadata": {},
     "output_type": "execute_result"
    },
    {
     "data": {
      "text/plain": [
       "[0, 1, 1, 2, 3, 5, 8, 13, 21, 34]"
      ]
     },
     "execution_count": 152,
     "metadata": {},
     "output_type": "execute_result"
    },
    {
     "data": {
      "text/plain": [
       "[3, 4, 7, 11, 18]"
      ]
     },
     "execution_count": 152,
     "metadata": {},
     "output_type": "execute_result"
    }
   ],
   "source": [
    "result = []\n",
    "printfiboSeq(3,0,1, result)\n",
    "result\n",
    "\n",
    "result = []\n",
    "printfiboSeq(5,0,1, result)\n",
    "result\n",
    "\n",
    "result = []\n",
    "printfiboSeq(10,0,1, result)\n",
    "result\n",
    "\n",
    "#Applicable to any additive sequence\n",
    "result = []\n",
    "printfiboSeq(5,3,4, result)\n",
    "result"
   ]
  },
  {
   "cell_type": "markdown",
   "metadata": {},
   "source": [
    "### Question 4 - Binary string permutation for N digits\n",
    "#### If N = 1 then {0,1} , N=2 then {00, 01, 10, 11} , if N = 3 then {000,001,010,011,100,101,110,111}\n",
    "#### For N digits the number of strings which can be generated are 2**N - This is Breadth First Search method (BFS)\n",
    "#### Here the tree is traversed from left to right (horizontally) and it keeps on adding [0,1] to the result. At the last/leaf node, it returns the result. This requires huge memory to hold all the intermediate results"
   ]
  },
  {
   "cell_type": "code",
   "execution_count": 153,
   "metadata": {},
   "outputs": [],
   "source": [
    "def binaryStringUsingBFS(n):\n",
    "    if n == 1:\n",
    "        return [\"0\",\"1\"]\n",
    "    else:\n",
    "        prev = binaryStringUsingBFS(n-1)\n",
    "        result = []\n",
    "        for item in prev:\n",
    "            result.append(item + \"0\")\n",
    "            result.append(item + \"1\")\n",
    "        return result"
   ]
  },
  {
   "cell_type": "code",
   "execution_count": 154,
   "metadata": {},
   "outputs": [
    {
     "data": {
      "text/plain": [
       "['0', '1']"
      ]
     },
     "execution_count": 154,
     "metadata": {},
     "output_type": "execute_result"
    },
    {
     "data": {
      "text/plain": [
       "['00', '01', '10', '11']"
      ]
     },
     "execution_count": 154,
     "metadata": {},
     "output_type": "execute_result"
    },
    {
     "data": {
      "text/plain": [
       "['000', '001', '010', '011', '100', '101', '110', '111']"
      ]
     },
     "execution_count": 154,
     "metadata": {},
     "output_type": "execute_result"
    },
    {
     "data": {
      "text/plain": [
       "['0000',\n",
       " '0001',\n",
       " '0010',\n",
       " '0011',\n",
       " '0100',\n",
       " '0101',\n",
       " '0110',\n",
       " '0111',\n",
       " '1000',\n",
       " '1001',\n",
       " '1010',\n",
       " '1011',\n",
       " '1100',\n",
       " '1101',\n",
       " '1110',\n",
       " '1111']"
      ]
     },
     "execution_count": 154,
     "metadata": {},
     "output_type": "execute_result"
    }
   ],
   "source": [
    "temp = binaryStringUsingBFS(1)\n",
    "temp\n",
    "temp = binaryStringUsingBFS(2)\n",
    "temp\n",
    "temp = binaryStringUsingBFS(3)\n",
    "temp\n",
    "temp = binaryStringUsingBFS(4)\n",
    "temp"
   ]
  },
  {
   "cell_type": "markdown",
   "metadata": {},
   "source": [
    "### Question 4-A Binary represenation of N digits using Depth First Search (DFS) approach.\n",
    "#### This is divide-and-conquer approach. Here we start from top of tree - each worker does it work and passes the intermediate result to worker below it. When the program reaches a particular leaf, we just print that result. And then stack pops/unwinds to process other worker. So time complexity is again O(2**N) but now the space complexity is reduced to the height of the tree O(n)"
   ]
  },
  {
   "cell_type": "code",
   "execution_count": 155,
   "metadata": {},
   "outputs": [],
   "source": [
    "def binaryStringUsingDFS(slate, n):\n",
    "    if n == 0:\n",
    "        # When we reach this leaf node, all the work has been done for one traversal of tree\n",
    "        print (slate)\n",
    "    else:\n",
    "        binaryStringUsingDFS(slate + \"0\", n-1)\n",
    "        binaryStringUsingDFS(slate + \"1\", n-1)"
   ]
  },
  {
   "cell_type": "code",
   "execution_count": 156,
   "metadata": {},
   "outputs": [
    {
     "name": "stdout",
     "output_type": "stream",
     "text": [
      "For N = 1\n",
      "0\n",
      "1\n",
      "For N = 2\n",
      "00\n",
      "01\n",
      "10\n",
      "11\n",
      "For N = 3\n",
      "000\n",
      "001\n",
      "010\n",
      "011\n",
      "100\n",
      "101\n",
      "110\n",
      "111\n"
     ]
    }
   ],
   "source": [
    "print(\"For N = 1\")\n",
    "binaryStringUsingDFS(\"\", 1)\n",
    "print(\"For N = 2\")\n",
    "binaryStringUsingDFS(\"\", 2)\n",
    "print(\"For N = 3\")\n",
    "binaryStringUsingDFS(\"\", 3)"
   ]
  },
  {
   "cell_type": "markdown",
   "metadata": {},
   "source": [
    "### Question 5 -  Permutations of a N digit number - With same digit can be repeated"
   ]
  },
  {
   "cell_type": "code",
   "execution_count": 157,
   "metadata": {},
   "outputs": [],
   "source": [
    "def nDigitPermutation(slate,n,result):\n",
    "    #print(\"slate  = {} for n = {}\".format(slate, n))\n",
    "    if n == 0:\n",
    "        #print(slate)\n",
    "        result.append(slate)\n",
    "    else:\n",
    "        #result = []\n",
    "        for index in range (10):          \n",
    "            nDigitPermutation(slate + str(index), n-1, result)"
   ]
  },
  {
   "cell_type": "code",
   "execution_count": 158,
   "metadata": {},
   "outputs": [
    {
     "name": "stdout",
     "output_type": "stream",
     "text": [
      "['00', '01', '02', '03', '04', '05', '06', '07', '08', '09', '10', '11', '12', '13', '14', '15', '16', '17', '18', '19', '20', '21', '22', '23', '24', '25', '26', '27', '28', '29', '30', '31', '32', '33', '34', '35', '36', '37', '38', '39', '40', '41', '42', '43', '44', '45', '46', '47', '48', '49', '50', '51', '52', '53', '54', '55', '56', '57', '58', '59', '60', '61', '62', '63', '64', '65', '66', '67', '68', '69', '70', '71', '72', '73', '74', '75', '76', '77', '78', '79', '80', '81', '82', '83', '84', '85', '86', '87', '88', '89', '90', '91', '92', '93', '94', '95', '96', '97', '98', '99']\n"
     ]
    }
   ],
   "source": [
    "result  = []\n",
    "nDigitPermutation(\"\",2, result)\n",
    "print(result)"
   ]
  },
  {
   "cell_type": "markdown",
   "metadata": {},
   "source": [
    "### Question 6 - Permutations of N digit number - but no duplicates allowed. So one digit can be used only one time in a sequence of N digits\n",
    "#### So the idea is to fill the slate by one digit and keep one more temp array with \"remaining\" digits. When the size of array becomes 0, that means we have filled the slate with all digits once and that is one of the combinatins"
   ]
  },
  {
   "cell_type": "code",
   "execution_count": 159,
   "metadata": {},
   "outputs": [],
   "source": [
    "def nUniqueDigitPermutation(slate,array,result):\n",
    "    #print(\"inside --- slate is {} array is {}\".format(slate, array))\n",
    "    if len(array) == 0:\n",
    "        #print(slate)\n",
    "        result.append(slate)\n",
    "    else:\n",
    "        #result = []\n",
    "        for i in range(len(array)):\n",
    "            #print(\"i is {}\".format(i))\n",
    "            nUniqueDigitPermutation(slate + array[i], array[:i] + array[i+1:], result)"
   ]
  },
  {
   "cell_type": "code",
   "execution_count": 160,
   "metadata": {},
   "outputs": [
    {
     "name": "stdout",
     "output_type": "stream",
     "text": [
      "['abcd', 'abdc', 'acbd', 'acdb', 'adbc', 'adcb', 'bacd', 'badc', 'bcad', 'bcda', 'bdac', 'bdca', 'cabd', 'cadb', 'cbad', 'cbda', 'cdab', 'cdba', 'dabc', 'dacb', 'dbac', 'dbca', 'dcab', 'dcba']\n",
      "['1234', '1243', '1324', '1342', '1423', '1432', '2134', '2143', '2314', '2341', '2413', '2431', '3124', '3142', '3214', '3241', '3412', '3421', '4123', '4132', '4213', '4231', '4312', '4321']\n"
     ]
    }
   ],
   "source": [
    "result  = []\n",
    "nUniqueDigitPermutation(\"\",\"abcd\", result)\n",
    "print(result)\n",
    "\n",
    "result  = []\n",
    "nUniqueDigitPermutation(\"\",\"1234\", result)\n",
    "print(result)"
   ]
  },
  {
   "cell_type": "markdown",
   "metadata": {},
   "source": [
    "### Question 7 -  Print all subsets of a set. This is also called combinations. Here order is not important.\n",
    "#### Input set  - [a,b,c] then output subsets will be [] , [a] , [b] , [c] , [ab] , [bc] , [ac] , [abc]\n",
    "#### Starting from the first element - Here each worker will either Include/Exclude the current element and handover the remaining elements (subset) in array to subworker till the end of array (leaf node) is reached"
   ]
  },
  {
   "cell_type": "code",
   "execution_count": 161,
   "metadata": {},
   "outputs": [],
   "source": [
    "def printSubsets(slate, inputArray, result):\n",
    "    if len(inputArray) == 0:\n",
    "        result.append(slate)\n",
    "    else:\n",
    "        printSubsets(slate, inputArray[1:], result) \n",
    "        printSubsets(slate + inputArray[0], inputArray[1:], result)"
   ]
  },
  {
   "cell_type": "code",
   "execution_count": 164,
   "metadata": {},
   "outputs": [
    {
     "data": {
      "text/plain": [
       "['',\n",
       " 'd',\n",
       " 'c',\n",
       " 'cd',\n",
       " 'b',\n",
       " 'bd',\n",
       " 'bc',\n",
       " 'bcd',\n",
       " 'a',\n",
       " 'ad',\n",
       " 'ac',\n",
       " 'acd',\n",
       " 'ab',\n",
       " 'abd',\n",
       " 'abc',\n",
       " 'abcd']"
      ]
     },
     "execution_count": 164,
     "metadata": {},
     "output_type": "execute_result"
    }
   ],
   "source": [
    "result = []\n",
    "slate = \"\"\n",
    "inputArray = ['a','b','c','d']\n",
    "printSubsets(slate, inputArray, result)\n",
    "result"
   ]
  },
  {
   "cell_type": "code",
   "execution_count": null,
   "metadata": {},
   "outputs": [],
   "source": []
  }
 ],
 "metadata": {
  "kernelspec": {
   "display_name": "Python 3",
   "language": "python",
   "name": "python3"
  },
  "language_info": {
   "codemirror_mode": {
    "name": "ipython",
    "version": 3
   },
   "file_extension": ".py",
   "mimetype": "text/x-python",
   "name": "python",
   "nbconvert_exporter": "python",
   "pygments_lexer": "ipython3",
   "version": "3.8.3"
  }
 },
 "nbformat": 4,
 "nbformat_minor": 1
}
